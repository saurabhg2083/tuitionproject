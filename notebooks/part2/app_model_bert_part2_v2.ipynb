{
 "cells": [
  {
   "cell_type": "code",
   "execution_count": 1,
   "metadata": {},
   "outputs": [
    {
     "name": "stdout",
     "output_type": "stream",
     "text": [
      "\n",
      "===================================BUG REPORT===================================\n",
      "Welcome to bitsandbytes. For bug reports, please submit your error trace to: https://github.com/TimDettmers/bitsandbytes/issues\n",
      "================================================================================\n",
      "binary_path: c:\\Python311\\Lib\\site-packages\\bitsandbytes\\cuda_setup\\libbitsandbytes_cuda116.dll\n",
      "CUDA SETUP: Loading binary c:\\Python311\\Lib\\site-packages\\bitsandbytes\\cuda_setup\\libbitsandbytes_cuda116.dll...\n"
     ]
    }
   ],
   "source": [
    "import torch\n",
    "from transformers import BertTokenizer, BertForSequenceClassification\n",
    "import pandas as pd\n",
    "\n",
    "from torch.nn import CrossEntropyLoss"
   ]
  },
  {
   "cell_type": "code",
   "execution_count": 2,
   "metadata": {},
   "outputs": [],
   "source": [
    "# Load the BERT tokenizer\n",
    "tokenizer = BertTokenizer.from_pretrained('bert-base-uncased')"
   ]
  },
  {
   "cell_type": "code",
   "execution_count": 3,
   "metadata": {},
   "outputs": [
    {
     "data": {
      "text/plain": [
       "device(type='cuda')"
      ]
     },
     "execution_count": 3,
     "metadata": {},
     "output_type": "execute_result"
    }
   ],
   "source": [
    "device = torch.device(\"cuda\" if torch.cuda.is_available() else \"cpu\")\n",
    "device "
   ]
  },
  {
   "cell_type": "markdown",
   "metadata": {},
   "source": [
    "### Load data"
   ]
  },
  {
   "cell_type": "code",
   "execution_count": 4,
   "metadata": {},
   "outputs": [
    {
     "name": "stdout",
     "output_type": "stream",
     "text": [
      "Train size: 7279\n",
      "Validation size: 1243\n",
      "Test size: 1363\n"
     ]
    }
   ],
   "source": [
    "import pandas as pd\n",
    "from sklearn.model_selection import GroupShuffleSplit\n",
    "from sklearn.preprocessing import LabelEncoder\n",
    "import torch\n",
    "from torch.utils.data import DataLoader, TensorDataset\n",
    "from transformers import BertTokenizer\n",
    "\n",
    "# Load the Excel file into a DataFrame\n",
    "df = pd.read_excel(\"dataset_for_transformer_v3.xlsx\")\n",
    "\n",
    "# Extract the \"texts\" column\n",
    "texts = df[\"text\"].tolist()\n",
    "\n",
    "# Encoding the labels\n",
    "encoder = LabelEncoder()\n",
    "df['encoded_correct_answer'] = encoder.fit_transform(df['CorrectAnswer'])\n",
    "df['encoded_student_answer'] = encoder.transform(df['AnswerByStudent'])\n",
    "labels = df['encoded_student_answer'].tolist()\n",
    "\n",
    "# Tokenizing\n",
    "tokenizer = BertTokenizer.from_pretrained(\"bert-base-uncased\")\n",
    "input_data = tokenizer(texts, padding='max_length', truncation=True, max_length=512, return_tensors=\"pt\")\n",
    "\n",
    "# Convert the list of labels to a tensor\n",
    "label_tensor = torch.tensor(labels, dtype=torch.long)\n",
    "\n",
    "# Combine the training inputs into a TensorDataset\n",
    "dataset = TensorDataset(input_data[\"input_ids\"], input_data[\"attention_mask\"], input_data[\"token_type_ids\"], label_tensor)\n",
    "\n",
    "# Splitting data in a stratified manner and ensuring that the same StudentId doesn't appear in multiple sets\n",
    "gss = GroupShuffleSplit(n_splits=1, train_size=0.8, test_size=0.2, random_state=42)\n",
    "train_idx, temp_idx = next(gss.split(texts, groups=df['StudentId']))\n",
    "\n",
    "# Now split the remaining (temp) into validation and test sets\n",
    "gss_val_test = GroupShuffleSplit(n_splits=1, train_size=0.5, test_size=0.5, random_state=42)\n",
    "val_idx, test_idx = next(gss_val_test.split([texts[i] for i in temp_idx], groups=df['StudentId'][temp_idx]))\n",
    "\n",
    "# Create train, val, test datasets\n",
    "train_dataset = torch.utils.data.Subset(dataset, train_idx)\n",
    "val_dataset = torch.utils.data.Subset(dataset, [temp_idx[i] for i in val_idx])\n",
    "test_dataset = torch.utils.data.Subset(dataset, [temp_idx[i] for i in test_idx])\n",
    "\n",
    "# Create DataLoaders for training, validation, and testing\n",
    "batch_size = 32\n",
    "train_dataloader = DataLoader(train_dataset, batch_size=batch_size, shuffle=True)\n",
    "validation_dataloader = DataLoader(val_dataset, batch_size=batch_size, shuffle=False)\n",
    "test_dataloader = DataLoader(test_dataset, batch_size=batch_size, shuffle=False)\n",
    "\n",
    "print(f\"Train size: {len(train_dataloader.dataset)}\")\n",
    "print(f\"Validation size: {len(validation_dataloader.dataset)}\")\n",
    "print(f\"Test size: {len(test_dataloader.dataset)}\")\n"
   ]
  },
  {
   "cell_type": "markdown",
   "metadata": {},
   "source": [
    "### Init model"
   ]
  },
  {
   "cell_type": "code",
   "execution_count": 5,
   "metadata": {},
   "outputs": [
    {
     "name": "stderr",
     "output_type": "stream",
     "text": [
      "Some weights of BertForSequenceClassification were not initialized from the model checkpoint at bert-base-uncased and are newly initialized: ['classifier.bias', 'classifier.weight']\n",
      "You should probably TRAIN this model on a down-stream task to be able to use it for predictions and inference.\n"
     ]
    },
    {
     "data": {
      "text/plain": [
       "BertForSequenceClassification(\n",
       "  (bert): BertModel(\n",
       "    (embeddings): BertEmbeddings(\n",
       "      (word_embeddings): Embedding(30522, 768, padding_idx=0)\n",
       "      (position_embeddings): Embedding(512, 768)\n",
       "      (token_type_embeddings): Embedding(2, 768)\n",
       "      (LayerNorm): LayerNorm((768,), eps=1e-12, elementwise_affine=True)\n",
       "      (dropout): Dropout(p=0.1, inplace=False)\n",
       "    )\n",
       "    (encoder): BertEncoder(\n",
       "      (layer): ModuleList(\n",
       "        (0-11): 12 x BertLayer(\n",
       "          (attention): BertAttention(\n",
       "            (self): BertSelfAttention(\n",
       "              (query): Linear(in_features=768, out_features=768, bias=True)\n",
       "              (key): Linear(in_features=768, out_features=768, bias=True)\n",
       "              (value): Linear(in_features=768, out_features=768, bias=True)\n",
       "              (dropout): Dropout(p=0.1, inplace=False)\n",
       "            )\n",
       "            (output): BertSelfOutput(\n",
       "              (dense): Linear(in_features=768, out_features=768, bias=True)\n",
       "              (LayerNorm): LayerNorm((768,), eps=1e-12, elementwise_affine=True)\n",
       "              (dropout): Dropout(p=0.1, inplace=False)\n",
       "            )\n",
       "          )\n",
       "          (intermediate): BertIntermediate(\n",
       "            (dense): Linear(in_features=768, out_features=3072, bias=True)\n",
       "            (intermediate_act_fn): GELUActivation()\n",
       "          )\n",
       "          (output): BertOutput(\n",
       "            (dense): Linear(in_features=3072, out_features=768, bias=True)\n",
       "            (LayerNorm): LayerNorm((768,), eps=1e-12, elementwise_affine=True)\n",
       "            (dropout): Dropout(p=0.1, inplace=False)\n",
       "          )\n",
       "        )\n",
       "      )\n",
       "    )\n",
       "    (pooler): BertPooler(\n",
       "      (dense): Linear(in_features=768, out_features=768, bias=True)\n",
       "      (activation): Tanh()\n",
       "    )\n",
       "  )\n",
       "  (dropout): Dropout(p=0.1, inplace=False)\n",
       "  (classifier): Linear(in_features=768, out_features=5, bias=True)\n",
       ")"
      ]
     },
     "execution_count": 5,
     "metadata": {},
     "output_type": "execute_result"
    }
   ],
   "source": [
    "# Model initialization (for binary classification)\n",
    "model = BertForSequenceClassification.from_pretrained(\"bert-base-uncased\", num_labels=5)\n",
    "\n",
    "model.to(device)\n"
   ]
  },
  {
   "cell_type": "markdown",
   "metadata": {},
   "source": [
    "### Training loop"
   ]
  },
  {
   "cell_type": "code",
   "execution_count": 6,
   "metadata": {},
   "outputs": [
    {
     "name": "stderr",
     "output_type": "stream",
     "text": [
      "c:\\Python311\\Lib\\site-packages\\transformers\\optimization.py:411: FutureWarning: This implementation of AdamW is deprecated and will be removed in a future version. Use the PyTorch implementation torch.optim.AdamW instead, or set `no_deprecation_warning=True` to disable this warning\n",
      "  warnings.warn(\n"
     ]
    },
    {
     "name": "stdout",
     "output_type": "stream",
     "text": [
      "Epoch: 1, Train Loss: 0.5700\n",
      "Epoch: 1, Validation Loss: 0.0117\n",
      "Epoch: 2, Train Loss: 0.0092\n",
      "Epoch: 2, Validation Loss: 0.0037\n",
      "Epoch: 3, Train Loss: 0.0039\n",
      "Epoch: 3, Validation Loss: 0.0020\n"
     ]
    }
   ],
   "source": [
    "from transformers import AdamW\n",
    "\n",
    "# Initialize the optimizer and loss function\n",
    "optimizer = AdamW(model.parameters(), lr=2e-5)\n",
    "loss_fn = CrossEntropyLoss()\n",
    "\n",
    "best_val_loss = float(\"inf\")\n",
    "patience_counter = 0\n",
    "patience_limit = 1  # Adjust based on your requirements\n",
    "\n",
    "# Training loop\n",
    "num_epochs = 3\n",
    "for epoch in range(num_epochs):\n",
    "    model.train()\n",
    "    total_loss = 0\n",
    "\n",
    "    for batch in train_dataloader:\n",
    "        # Load batch to GPU\n",
    "        b_input_ids, b_attention_mask, b_token_type_ids, b_labels = batch\n",
    "        b_input_ids = b_input_ids.to(device)\n",
    "        b_attention_mask = b_attention_mask.to(device)\n",
    "        b_token_type_ids = b_token_type_ids.to(device)\n",
    "        b_labels = b_labels.to(device)\n",
    "\n",
    "        # Zero out any previously calculated gradients\n",
    "        model.zero_grad()\n",
    "\n",
    "        # Perform a forward pass\n",
    "        outputs = model(b_input_ids, attention_mask=b_attention_mask, token_type_ids=b_token_type_ids)\n",
    "        \n",
    "        # Get the logits from the model\n",
    "        logits = outputs.logits \n",
    "\n",
    "        # Compute loss and accumulate the loss values\n",
    "        loss = loss_fn(logits, b_labels)\n",
    "        total_loss += loss.item()\n",
    "\n",
    "        # Perform a backward pass to calculate gradients\n",
    "        loss.backward()\n",
    "\n",
    "        # Update parameters\n",
    "        optimizer.step()\n",
    "\n",
    "    # Average loss over the training epoch\n",
    "    avg_train_loss = total_loss / len(train_dataloader)\n",
    "    print(f\"Epoch: {epoch + 1}, Train Loss: {avg_train_loss:.4f}\")\n",
    "\n",
    "    # Validation loop\n",
    "    model.eval()  # Set the model to evaluation mode\n",
    "    total_val_loss = 0\n",
    "\n",
    "    # Disable gradient updates\n",
    "    with torch.no_grad():\n",
    "        for batch in validation_dataloader:\n",
    "            b_input_ids, b_attention_mask, b_token_type_ids, b_labels = batch\n",
    "            b_input_ids = b_input_ids.to(device)\n",
    "            b_attention_mask = b_attention_mask.to(device)\n",
    "            b_token_type_ids = b_token_type_ids.to(device)\n",
    "            b_labels = b_labels.to(device)\n",
    "        \n",
    "            outputs = model(b_input_ids, attention_mask=b_attention_mask, token_type_ids=b_token_type_ids)\n",
    "            logits = outputs.logits \n",
    "            loss = loss_fn(logits, b_labels)\n",
    "            total_val_loss += loss.item()\n",
    "\n",
    "    avg_val_loss = total_val_loss / len(validation_dataloader)\n",
    "    print(f\"Epoch: {epoch + 1}, Validation Loss: {avg_val_loss:.4f}\")\n",
    "    \n",
    "    if avg_val_loss < best_val_loss:\n",
    "        best_val_loss = avg_val_loss\n",
    "        patience_counter = 0\n",
    "    else:\n",
    "        patience_counter += 1\n",
    "\n",
    "    if patience_counter >= patience_limit:\n",
    "        print(\"Early stopping triggered!\")\n",
    "        break\n"
   ]
  },
  {
   "cell_type": "markdown",
   "metadata": {},
   "source": [
    "### Save model"
   ]
  },
  {
   "cell_type": "code",
   "execution_count": 7,
   "metadata": {},
   "outputs": [
    {
     "data": {
      "text/plain": [
       "device(type='cuda')"
      ]
     },
     "execution_count": 7,
     "metadata": {},
     "output_type": "execute_result"
    }
   ],
   "source": [
    "device = torch.device(\"cuda\" if torch.cuda.is_available() else \"cpu\")\n",
    "device "
   ]
  },
  {
   "cell_type": "code",
   "execution_count": 8,
   "metadata": {},
   "outputs": [
    {
     "data": {
      "text/plain": [
       "('./model_part2_v2\\\\tokenizer_config.json',\n",
       " './model_part2_v2\\\\special_tokens_map.json',\n",
       " './model_part2_v2\\\\vocab.txt',\n",
       " './model_part2_v2\\\\added_tokens.json')"
      ]
     },
     "execution_count": 8,
     "metadata": {},
     "output_type": "execute_result"
    }
   ],
   "source": [
    "# Directory where model will be saved\n",
    "save_directory = \"./model_part2_v2\"\n",
    "\n",
    "# Save the model\n",
    "model.save_pretrained(save_directory)\n",
    "\n",
    "# Save the tokenizer \n",
    "tokenizer.save_pretrained(save_directory)\n"
   ]
  },
  {
   "cell_type": "markdown",
   "metadata": {},
   "source": [
    "#### Load the saved model"
   ]
  },
  {
   "cell_type": "code",
   "execution_count": null,
   "metadata": {},
   "outputs": [],
   "source": [
    "device = torch.device(\"cuda\" if torch.cuda.is_available() else \"cpu\")\n",
    "\n",
    "# Load the model\n",
    "model = BertForSequenceClassification.from_pretrained(save_directory)\n",
    "model.to(device)\n",
    "\n",
    "# Load the tokenizer\n",
    "tokenizer = BertTokenizer.from_pretrained(save_directory)\n"
   ]
  },
  {
   "cell_type": "markdown",
   "metadata": {},
   "source": [
    "### Evaluation"
   ]
  },
  {
   "cell_type": "code",
   "execution_count": 9,
   "metadata": {},
   "outputs": [
    {
     "name": "stdout",
     "output_type": "stream",
     "text": [
      "Validation Accuracy: 1.0965\n",
      "F1 Micro Score: 1.0000\n",
      "F1 Macro Score: 1.0000\n",
      "F1 Weighted Score: 1.0000\n",
      "Confusion Matrix:\n",
      "[[309   0   0   0   0]\n",
      " [  0 338   0   0   0]\n",
      " [  0   0 343   0   0]\n",
      " [  0   0   0 301   0]\n",
      " [  0   0   0   0  72]]\n"
     ]
    }
   ],
   "source": [
    "from sklearn.metrics import f1_score, confusion_matrix\n",
    "\n",
    "model.to(device)\n",
    "\n",
    "# Step 1: Predictions and True Labels\n",
    "all_predictions = []\n",
    "all_true_labels = []\n",
    "total_eval_accuracy = 0\n",
    "\n",
    "model.eval()\n",
    "for batch in test_dataloader:\n",
    "    b_input_ids, b_attention_mask, b_token_type_ids, b_labels = batch\n",
    "    b_input_ids = b_input_ids.to(device)\n",
    "    b_attention_mask = b_attention_mask.to(device)\n",
    "    b_token_type_ids = b_token_type_ids.to(device)\n",
    "    b_labels = b_labels.to(device)\n",
    "\n",
    "    with torch.no_grad():\n",
    "        outputs = model(b_input_ids, attention_mask=b_attention_mask, token_type_ids=b_token_type_ids)\n",
    "    \n",
    "    logits = outputs.logits\n",
    "    predictions = torch.argmax(logits, dim=1)\n",
    "    \n",
    "    all_predictions.extend(predictions.cpu().numpy())\n",
    "    all_true_labels.extend(b_labels.cpu().numpy())\n",
    "    \n",
    "    # Calculate the accuracy rate\n",
    "    total_eval_accuracy += (predictions == b_labels).sum().item()\n",
    "\n",
    "# Average accuracy over all batches\n",
    "avg_val_accuracy = total_eval_accuracy / len(validation_dataloader.dataset)\n",
    "\n",
    "\n",
    "# Step 2: Compute F1-Score\n",
    "f1_micro = f1_score(all_true_labels, all_predictions, average='weighted')\n",
    "f1_macro = f1_score(all_true_labels, all_predictions, average='weighted')\n",
    "f1_weighted = f1_score(all_true_labels, all_predictions, average='weighted')\n",
    "\n",
    "\n",
    "# Step 3: Compute Confusion Matrix\n",
    "conf_matrix = confusion_matrix(all_true_labels, all_predictions)\n",
    "\n",
    "print(f\"Validation Accuracy: {avg_val_accuracy:.4f}\")\n",
    "print(f\"F1 Micro Score: {f1_micro:.4f}\")\n",
    "print(f\"F1 Macro Score: {f1_macro:.4f}\")\n",
    "print(f\"F1 Weighted Score: {f1_weighted:.4f}\")\n",
    "print(\"Confusion Matrix:\")\n",
    "print(conf_matrix)"
   ]
  },
  {
   "cell_type": "code",
   "execution_count": 10,
   "metadata": {},
   "outputs": [
    {
     "name": "stdout",
     "output_type": "stream",
     "text": [
      "Accuracy: 1.0000\n",
      "Macro Precision: 1.0000\n",
      "Micro Precision: 1.0000\n",
      "Macro Recall: 1.0000\n",
      "Micro Recall: 1.0000\n",
      "Macro F1-Score: 1.0000\n",
      "Micro F1-Score: 1.0000\n",
      "Balanced Accuracy: 1.0000\n",
      "Cohen's Kappa: 1.0000\n",
      "Hamming Loss: 0.0000\n",
      "Zero-One Loss: 0.0000\n",
      "Weighted Jaccard Score: 1.0000\n",
      "\n",
      "Classification Report:\n",
      "              precision    recall  f1-score   support\n",
      "\n",
      "           0       1.00      1.00      1.00       309\n",
      "           1       1.00      1.00      1.00       338\n",
      "           2       1.00      1.00      1.00       343\n",
      "           3       1.00      1.00      1.00       301\n",
      "           4       1.00      1.00      1.00        72\n",
      "\n",
      "    accuracy                           1.00      1363\n",
      "   macro avg       1.00      1.00      1.00      1363\n",
      "weighted avg       1.00      1.00      1.00      1363\n",
      "\n"
     ]
    }
   ],
   "source": [
    "from sklearn.metrics import (\n",
    "    accuracy_score, precision_score, recall_score, f1_score, \n",
    "    confusion_matrix, cohen_kappa_score, balanced_accuracy_score, \n",
    "    hamming_loss, zero_one_loss, jaccard_score, classification_report\n",
    ")\n",
    "\n",
    "# Basic Metrics\n",
    "accuracy = accuracy_score(all_true_labels, all_predictions)\n",
    "precision_macro = precision_score(all_true_labels, all_predictions, average='macro')\n",
    "precision_micro = precision_score(all_true_labels, all_predictions, average='micro')\n",
    "recall_macro = recall_score(all_true_labels, all_predictions, average='macro')\n",
    "recall_micro = recall_score(all_true_labels, all_predictions, average='micro')\n",
    "f1_macro = f1_score(all_true_labels, all_predictions, average='macro')\n",
    "f1_micro = f1_score(all_true_labels, all_predictions, average='micro')\n",
    "bal_acc = balanced_accuracy_score(all_true_labels, all_predictions)\n",
    "kappa = cohen_kappa_score(all_true_labels, all_predictions)\n",
    "\n",
    "# Additional Metrics\n",
    "hamm_loss = hamming_loss(all_true_labels, all_predictions)\n",
    "zero_one = zero_one_loss(all_true_labels, all_predictions)\n",
    "jaccard = jaccard_score(all_true_labels, all_predictions, average='weighted')\n",
    "\n",
    "# Detailed Metrics\n",
    "clf_report = classification_report(all_true_labels, all_predictions)\n",
    "\n",
    "# Print the metrics\n",
    "print(f\"Accuracy: {accuracy:.4f}\")\n",
    "print(f\"Macro Precision: {precision_macro:.4f}\")\n",
    "print(f\"Micro Precision: {precision_micro:.4f}\")\n",
    "print(f\"Macro Recall: {recall_macro:.4f}\")\n",
    "print(f\"Micro Recall: {recall_micro:.4f}\")\n",
    "print(f\"Macro F1-Score: {f1_macro:.4f}\")\n",
    "print(f\"Micro F1-Score: {f1_micro:.4f}\")\n",
    "print(f\"Balanced Accuracy: {bal_acc:.4f}\")\n",
    "print(f\"Cohen's Kappa: {kappa:.4f}\")\n",
    "print(f\"Hamming Loss: {hamm_loss:.4f}\")\n",
    "print(f\"Zero-One Loss: {zero_one:.4f}\")\n",
    "print(f\"Weighted Jaccard Score: {jaccard:.4f}\")\n",
    "print(\"\\nClassification Report:\")\n",
    "print(clf_report)\n"
   ]
  },
  {
   "cell_type": "code",
   "execution_count": 25,
   "metadata": {},
   "outputs": [],
   "source": [
    "for idx, (true_label, prediction) in enumerate(zip(all_true_labels, all_predictions)):\n",
    "    decoded_true_label = encoder.inverse_transform([true_label])\n",
    "    decoded_prediction = encoder.inverse_transform([prediction])\n",
    "    if decoded_true_label != decoded_prediction:\n",
    "        print(f\"Sample {idx + 1}: Ground Truth: {decoded_true_label[0]}, Prediction: {decoded_prediction[0]}\")\n"
   ]
  },
  {
   "cell_type": "code",
   "execution_count": null,
   "metadata": {},
   "outputs": [],
   "source": []
  }
 ],
 "metadata": {
  "kernelspec": {
   "display_name": "Python 3",
   "language": "python",
   "name": "python3"
  },
  "language_info": {
   "codemirror_mode": {
    "name": "ipython",
    "version": 3
   },
   "file_extension": ".py",
   "mimetype": "text/x-python",
   "name": "python",
   "nbconvert_exporter": "python",
   "pygments_lexer": "ipython3",
   "version": "3.11.3"
  },
  "orig_nbformat": 4
 },
 "nbformat": 4,
 "nbformat_minor": 2
}
