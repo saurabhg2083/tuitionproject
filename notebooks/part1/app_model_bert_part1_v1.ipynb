{
 "cells": [
  {
   "cell_type": "code",
   "execution_count": 24,
   "metadata": {},
   "outputs": [],
   "source": [
    "import torch\n",
    "from transformers import BertTokenizer, BertForSequenceClassification\n",
    "import pandas as pd\n",
    "\n",
    "from torch.nn import BCEWithLogitsLoss\n",
    "loss_fn = BCEWithLogitsLoss()"
   ]
  },
  {
   "cell_type": "code",
   "execution_count": 25,
   "metadata": {},
   "outputs": [],
   "source": [
    "# Load the BERT tokenizer\n",
    "tokenizer = BertTokenizer.from_pretrained('bert-base-uncased')"
   ]
  },
  {
   "cell_type": "code",
   "execution_count": 26,
   "metadata": {},
   "outputs": [],
   "source": [
    "device = torch.device(\"cuda\" if torch.cuda.is_available() else \"cpu\")"
   ]
  },
  {
   "cell_type": "markdown",
   "metadata": {},
   "source": [
    "### Load data"
   ]
  },
  {
   "cell_type": "code",
   "execution_count": 27,
   "metadata": {},
   "outputs": [],
   "source": [
    "# Load the Excel file into a DataFrame\n",
    "df = pd.read_excel(\"dataset_for_transformer.xlsx\")\n",
    "\n",
    "# Extract the \"texts\" column\n",
    "texts = df[\"text\"].tolist()\n",
    "labels = df['label'].tolist()\n"
   ]
  },
  {
   "cell_type": "code",
   "execution_count": 28,
   "metadata": {},
   "outputs": [
    {
     "name": "stderr",
     "output_type": "stream",
     "text": [
      "[nltk_data] Downloading package punkt to\n",
      "[nltk_data]     C:\\Users\\juan_\\AppData\\Roaming\\nltk_data...\n",
      "[nltk_data]   Package punkt is already up-to-date!\n"
     ]
    },
    {
     "data": {
      "text/plain": [
       "True"
      ]
     },
     "execution_count": 28,
     "metadata": {},
     "output_type": "execute_result"
    }
   ],
   "source": [
    "import nltk\n",
    "from nltk.tokenize import word_tokenize\n",
    "\n",
    "nltk.download('punkt')"
   ]
  },
  {
   "cell_type": "code",
   "execution_count": 29,
   "metadata": {},
   "outputs": [
    {
     "name": "stdout",
     "output_type": "stream",
     "text": [
      "237\n"
     ]
    }
   ],
   "source": [
    "max_length = max([len(word_tokenize(text)) for text in texts])\n",
    "print(max_length)\n"
   ]
  },
  {
   "cell_type": "markdown",
   "metadata": {},
   "source": [
    "### Tokenize Data"
   ]
  },
  {
   "cell_type": "code",
   "execution_count": 30,
   "metadata": {},
   "outputs": [],
   "source": [
    "\n",
    "input_data = tokenizer(texts, padding='max_length', truncation=True, max_length=512, return_tensors=\"pt\")"
   ]
  },
  {
   "cell_type": "markdown",
   "metadata": {},
   "source": [
    "### Dataloader"
   ]
  },
  {
   "cell_type": "code",
   "execution_count": 31,
   "metadata": {},
   "outputs": [],
   "source": [
    "from torch.utils.data import DataLoader, TensorDataset, random_split"
   ]
  },
  {
   "cell_type": "code",
   "execution_count": 32,
   "metadata": {},
   "outputs": [],
   "source": [
    "# Convert the list of labels to a tensor\n",
    "label_tensor = torch.tensor(labels, dtype=torch.long)\n",
    "\n",
    "# Combine the training inputs into a TensorDataset\n",
    "dataset = TensorDataset(input_data[\"input_ids\"], input_data[\"attention_mask\"], input_data[\"token_type_ids\"], label_tensor)"
   ]
  },
  {
   "cell_type": "code",
   "execution_count": 33,
   "metadata": {},
   "outputs": [],
   "source": [
    "from torch.utils.data import random_split\n",
    "\n",
    "# Define the sizes\n",
    "train_size = int(0.8 * len(dataset))\n",
    "val_size = int(0.1 * len(dataset))\n",
    "test_size = len(dataset) - train_size - val_size\n",
    "\n",
    "# Split the dataset\n",
    "train_dataset, val_dataset, test_dataset = random_split(dataset, [train_size, val_size, test_size])\n"
   ]
  },
  {
   "cell_type": "code",
   "execution_count": 34,
   "metadata": {},
   "outputs": [],
   "source": [
    "\n",
    "# Create DataLoaders for training and validation\n",
    "batch_size = 32\n",
    "train_dataloader = DataLoader(train_dataset, batch_size=batch_size, shuffle=True)\n",
    "validation_dataloader = DataLoader(val_dataset, batch_size=batch_size, shuffle=False)\n",
    "test_dataloader = DataLoader(test_dataset, batch_size=batch_size, shuffle=False)\n"
   ]
  },
  {
   "cell_type": "markdown",
   "metadata": {},
   "source": [
    "### Init model"
   ]
  },
  {
   "cell_type": "code",
   "execution_count": 35,
   "metadata": {},
   "outputs": [
    {
     "name": "stderr",
     "output_type": "stream",
     "text": [
      "Some weights of BertForSequenceClassification were not initialized from the model checkpoint at bert-base-uncased and are newly initialized: ['classifier.weight', 'classifier.bias']\n",
      "You should probably TRAIN this model on a down-stream task to be able to use it for predictions and inference.\n"
     ]
    },
    {
     "data": {
      "text/plain": [
       "BertForSequenceClassification(\n",
       "  (bert): BertModel(\n",
       "    (embeddings): BertEmbeddings(\n",
       "      (word_embeddings): Embedding(30522, 768, padding_idx=0)\n",
       "      (position_embeddings): Embedding(512, 768)\n",
       "      (token_type_embeddings): Embedding(2, 768)\n",
       "      (LayerNorm): LayerNorm((768,), eps=1e-12, elementwise_affine=True)\n",
       "      (dropout): Dropout(p=0.1, inplace=False)\n",
       "    )\n",
       "    (encoder): BertEncoder(\n",
       "      (layer): ModuleList(\n",
       "        (0-11): 12 x BertLayer(\n",
       "          (attention): BertAttention(\n",
       "            (self): BertSelfAttention(\n",
       "              (query): Linear(in_features=768, out_features=768, bias=True)\n",
       "              (key): Linear(in_features=768, out_features=768, bias=True)\n",
       "              (value): Linear(in_features=768, out_features=768, bias=True)\n",
       "              (dropout): Dropout(p=0.1, inplace=False)\n",
       "            )\n",
       "            (output): BertSelfOutput(\n",
       "              (dense): Linear(in_features=768, out_features=768, bias=True)\n",
       "              (LayerNorm): LayerNorm((768,), eps=1e-12, elementwise_affine=True)\n",
       "              (dropout): Dropout(p=0.1, inplace=False)\n",
       "            )\n",
       "          )\n",
       "          (intermediate): BertIntermediate(\n",
       "            (dense): Linear(in_features=768, out_features=3072, bias=True)\n",
       "            (intermediate_act_fn): GELUActivation()\n",
       "          )\n",
       "          (output): BertOutput(\n",
       "            (dense): Linear(in_features=3072, out_features=768, bias=True)\n",
       "            (LayerNorm): LayerNorm((768,), eps=1e-12, elementwise_affine=True)\n",
       "            (dropout): Dropout(p=0.1, inplace=False)\n",
       "          )\n",
       "        )\n",
       "      )\n",
       "    )\n",
       "    (pooler): BertPooler(\n",
       "      (dense): Linear(in_features=768, out_features=768, bias=True)\n",
       "      (activation): Tanh()\n",
       "    )\n",
       "  )\n",
       "  (dropout): Dropout(p=0.1, inplace=False)\n",
       "  (classifier): Linear(in_features=768, out_features=1, bias=True)\n",
       ")"
      ]
     },
     "execution_count": 35,
     "metadata": {},
     "output_type": "execute_result"
    }
   ],
   "source": [
    "# Model initialization (for binary classification)\n",
    "model = BertForSequenceClassification.from_pretrained(\"bert-base-uncased\", num_labels=1)\n",
    "\n",
    "model.to(device)\n"
   ]
  },
  {
   "cell_type": "markdown",
   "metadata": {},
   "source": [
    "### Training loop"
   ]
  },
  {
   "cell_type": "code",
   "execution_count": 36,
   "metadata": {},
   "outputs": [
    {
     "name": "stderr",
     "output_type": "stream",
     "text": [
      "c:\\Python311\\Lib\\site-packages\\transformers\\optimization.py:411: FutureWarning: This implementation of AdamW is deprecated and will be removed in a future version. Use the PyTorch implementation torch.optim.AdamW instead, or set `no_deprecation_warning=True` to disable this warning\n",
      "  warnings.warn(\n"
     ]
    },
    {
     "name": "stdout",
     "output_type": "stream",
     "text": [
      "Epoch: 1, Train Loss: 0.4144\n",
      "Epoch: 1, Validation Loss: 0.0059\n",
      "Epoch: 2, Train Loss: 0.0164\n",
      "Epoch: 2, Validation Loss: 0.0011\n",
      "Epoch: 3, Train Loss: 0.0013\n",
      "Epoch: 3, Validation Loss: 0.0005\n",
      "Epoch: 4, Train Loss: 0.0041\n",
      "Epoch: 4, Validation Loss: 0.0003\n",
      "Epoch: 5, Train Loss: 0.0046\n",
      "Epoch: 5, Validation Loss: 0.0003\n"
     ]
    }
   ],
   "source": [
    "from transformers import AdamW\n",
    "from torch.nn import BCEWithLogitsLoss\n",
    "\n",
    "# Initialize the optimizer and loss function\n",
    "optimizer = AdamW(model.parameters(), lr=2e-5)\n",
    "loss_fn = BCEWithLogitsLoss()\n",
    "\n",
    "best_val_loss = float(\"inf\")\n",
    "patience_counter = 0\n",
    "patience_limit = 1  # Adjust based on your requirements\n",
    "\n",
    "# Training loop\n",
    "num_epochs = 5\n",
    "for epoch in range(num_epochs):\n",
    "    model.train()\n",
    "    total_loss = 0\n",
    "\n",
    "    for batch in train_dataloader:\n",
    "        # Load batch to GPU\n",
    "        b_input_ids, b_attention_mask, b_token_type_ids, b_labels = batch\n",
    "        b_input_ids = b_input_ids.to(device)\n",
    "        b_attention_mask = b_attention_mask.to(device)\n",
    "        b_token_type_ids = b_token_type_ids.to(device)\n",
    "        b_labels = b_labels.to(device)\n",
    "\n",
    "        # Zero out any previously calculated gradients\n",
    "        model.zero_grad()\n",
    "\n",
    "        # Perform a forward pass\n",
    "        outputs = model(b_input_ids, attention_mask=b_attention_mask, token_type_ids=b_token_type_ids)\n",
    "        \n",
    "        # Get the logits from the model\n",
    "        logits = outputs.logits.squeeze()\n",
    "\n",
    "        # Compute loss and accumulate the loss values\n",
    "        loss = loss_fn(logits, b_labels.float())\n",
    "        total_loss += loss.item()\n",
    "\n",
    "        # Perform a backward pass to calculate gradients\n",
    "        loss.backward()\n",
    "\n",
    "        # Update parameters\n",
    "        optimizer.step()\n",
    "\n",
    "    # Average loss over the training epoch\n",
    "    avg_train_loss = total_loss / len(train_dataloader)\n",
    "    print(f\"Epoch: {epoch + 1}, Train Loss: {avg_train_loss:.4f}\")\n",
    "\n",
    "    # Validation loop\n",
    "    model.eval()  # Set the model to evaluation mode\n",
    "    total_val_loss = 0\n",
    "\n",
    "    # Disable gradient updates\n",
    "    with torch.no_grad():\n",
    "        for batch in validation_dataloader:\n",
    "            b_input_ids, b_attention_mask, b_token_type_ids, b_labels = batch\n",
    "            b_input_ids = b_input_ids.to(device)\n",
    "            b_attention_mask = b_attention_mask.to(device)\n",
    "            b_token_type_ids = b_token_type_ids.to(device)\n",
    "            b_labels = b_labels.to(device)\n",
    "        \n",
    "            outputs = model(b_input_ids, attention_mask=b_attention_mask, token_type_ids=b_token_type_ids)\n",
    "            logits = outputs.logits.squeeze()\n",
    "            loss = loss_fn(logits, b_labels.float())\n",
    "            total_val_loss += loss.item()\n",
    "\n",
    "    avg_val_loss = total_val_loss / len(validation_dataloader)\n",
    "    print(f\"Epoch: {epoch + 1}, Validation Loss: {avg_val_loss:.4f}\")\n",
    "    \n",
    "    if avg_val_loss < best_val_loss:\n",
    "        best_val_loss = avg_val_loss\n",
    "        patience_counter = 0\n",
    "    else:\n",
    "        patience_counter += 1\n",
    "\n",
    "    if patience_counter >= patience_limit:\n",
    "        print(\"Early stopping triggered!\")\n",
    "        break\n"
   ]
  },
  {
   "cell_type": "markdown",
   "metadata": {},
   "source": [
    "### Save model"
   ]
  },
  {
   "cell_type": "code",
   "execution_count": null,
   "metadata": {},
   "outputs": [],
   "source": [
    "device = torch.device(\"cuda\" if torch.cuda.is_available() else \"cpu\")\n",
    "device "
   ]
  },
  {
   "cell_type": "code",
   "execution_count": null,
   "metadata": {},
   "outputs": [],
   "source": [
    "# Directory where model will be saved\n",
    "save_directory = \"./model\"\n",
    "\n",
    "# Save the model\n",
    "model.save_pretrained(save_directory)\n",
    "\n",
    "# Save the tokenizer \n",
    "tokenizer.save_pretrained(save_directory)\n"
   ]
  },
  {
   "cell_type": "markdown",
   "metadata": {},
   "source": [
    "#### Load the saved model"
   ]
  },
  {
   "cell_type": "code",
   "execution_count": null,
   "metadata": {},
   "outputs": [],
   "source": [
    "device = torch.device(\"cuda\" if torch.cuda.is_available() else \"cpu\")\n",
    "\n",
    "# Load the model\n",
    "model = BertForSequenceClassification.from_pretrained(save_directory)\n",
    "model.to(device)\n",
    "\n",
    "# Load the tokenizer\n",
    "tokenizer = BertTokenizer.from_pretrained(save_directory)\n"
   ]
  },
  {
   "cell_type": "markdown",
   "metadata": {},
   "source": [
    "### Evaluation"
   ]
  },
  {
   "cell_type": "code",
   "execution_count": null,
   "metadata": {},
   "outputs": [],
   "source": [
    "from sklearn.metrics import f1_score, confusion_matrix\n",
    "\n",
    "model.to(device)\n",
    "\n",
    "# Step 1: Predictions and True Labels\n",
    "all_predictions = []\n",
    "all_true_labels = []\n",
    "total_eval_accuracy = 0\n",
    "\n",
    "model.eval()\n",
    "for batch in test_dataloader:\n",
    "    b_input_ids, b_attention_mask, b_token_type_ids, b_labels = batch\n",
    "    b_input_ids = b_input_ids.to(device)\n",
    "    b_attention_mask = b_attention_mask.to(device)\n",
    "    b_token_type_ids = b_token_type_ids.to(device)\n",
    "    b_labels = b_labels.to(device)\n",
    "\n",
    "    with torch.no_grad():\n",
    "        outputs = model(b_input_ids, attention_mask=b_attention_mask, token_type_ids=b_token_type_ids)\n",
    "    \n",
    "    logits = outputs.logits.squeeze()\n",
    "    predictions = (logits > 0).int()\n",
    "    \n",
    "    all_predictions.extend(predictions.cpu().numpy())\n",
    "    all_true_labels.extend(b_labels.cpu().numpy())\n",
    "    \n",
    "    # Calculate the accuracy rate\n",
    "    total_eval_accuracy += (predictions == b_labels).sum().item()\n",
    "\n",
    "# Average accuracy over all batches\n",
    "avg_val_accuracy = total_eval_accuracy / len(validation_dataloader.dataset)\n",
    "\n",
    "\n",
    "# Step 2: Compute F1-Score\n",
    "f1 = f1_score(all_true_labels, all_predictions)\n",
    "\n",
    "# Step 3: Compute Confusion Matrix\n",
    "conf_matrix = confusion_matrix(all_true_labels, all_predictions)\n",
    "\n",
    "print(f\"Validation Accuracy: {avg_val_accuracy:.4f}\")\n",
    "print(f\"F1 Score: {f1:.4f}\")\n",
    "print(\"Confusion Matrix:\")\n",
    "print(conf_matrix)"
   ]
  },
  {
   "cell_type": "code",
   "execution_count": null,
   "metadata": {},
   "outputs": [],
   "source": [
    "from sklearn.metrics import (\n",
    "    accuracy_score, precision_score, recall_score, f1_score, roc_auc_score,\n",
    "    confusion_matrix, log_loss, cohen_kappa_score, matthews_corrcoef, balanced_accuracy_score\n",
    ")\n",
    "\n",
    "# Accuracy\n",
    "accuracy = accuracy_score(all_true_labels, all_predictions)\n",
    "\n",
    "# Precision\n",
    "precision = precision_score(all_true_labels, all_predictions)\n",
    "\n",
    "# Recall\n",
    "recall = recall_score(all_true_labels, all_predictions)\n",
    "\n",
    "# F1-Score\n",
    "f1 = f1_score(all_true_labels, all_predictions)\n",
    "\n",
    "# ROC AUC \n",
    "# all_probabilities = [probability of positive class for each sample]\n",
    "# roc_auc = roc_auc_score(all_true_labels, all_probabilities)\n",
    "\n",
    "# Specificity\n",
    "tn, fp, fn, tp = confusion_matrix(all_true_labels, all_predictions).ravel()\n",
    "specificity = tn / (tn + fp)\n",
    "\n",
    "# Matthews Correlation Coefficient\n",
    "mcc = matthews_corrcoef(all_true_labels, all_predictions)\n",
    "\n",
    "# Log Loss (Again, requires probability scores)\n",
    "# logloss = log_loss(all_true_labels, all_probabilities)\n",
    "\n",
    "# Cohen's Kappa\n",
    "kappa = cohen_kappa_score(all_true_labels, all_predictions)\n",
    "\n",
    "# Balanced Accuracy\n",
    "bal_acc = balanced_accuracy_score(all_true_labels, all_predictions)\n",
    "\n",
    "# Print the metrics\n",
    "print(f\"Accuracy: {accuracy:.4f}\")\n",
    "print(f\"Precision: {precision:.4f}\")\n",
    "print(f\"Recall: {recall:.4f}\")\n",
    "print(f\"F1-Score: {f1:.4f}\")\n",
    "# print(f\"ROC AUC: {roc_auc:.4f}\")  # Uncomment once you have all_probabilities\n",
    "print(f\"Specificity: {specificity:.4f}\")\n",
    "print(f\"Matthews Correlation Coefficient: {mcc:.4f}\")\n",
    "# print(f\"Log Loss: {logloss:.4f}\")  # Uncomment once you have all_probabilities\n",
    "print(f\"Cohen's Kappa: {kappa:.4f}\")\n",
    "print(f\"Balanced Accuracy: {bal_acc:.4f}\")\n"
   ]
  },
  {
   "cell_type": "code",
   "execution_count": null,
   "metadata": {},
   "outputs": [],
   "source": []
  }
 ],
 "metadata": {
  "kernelspec": {
   "display_name": "Python 3",
   "language": "python",
   "name": "python3"
  },
  "language_info": {
   "codemirror_mode": {
    "name": "ipython",
    "version": 3
   },
   "file_extension": ".py",
   "mimetype": "text/x-python",
   "name": "python",
   "nbconvert_exporter": "python",
   "pygments_lexer": "ipython3",
   "version": "3.11.3"
  },
  "orig_nbformat": 4
 },
 "nbformat": 4,
 "nbformat_minor": 2
}
